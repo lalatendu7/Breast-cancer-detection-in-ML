{
  "cells": [
    {
      "cell_type": "markdown",
      "metadata": {
        "id": "view-in-github",
        "colab_type": "text"
      },
      "source": [
        "<a href=\"https://colab.research.google.com/github/lalatendu7/Breast-cancer-detection-in-ML/blob/main/KNN_details_28_01_2025.ipynb\" target=\"_parent\"><img src=\"https://colab.research.google.com/assets/colab-badge.svg\" alt=\"Open In Colab\"/></a>"
      ]
    },
    {
      "cell_type": "markdown",
      "id": "4b25c855",
      "metadata": {
        "id": "4b25c855"
      },
      "source": [
        "# IMPLEMENTATION OF KNN\n"
      ]
    },
    {
      "cell_type": "code",
      "execution_count": null,
      "id": "6994cba8",
      "metadata": {
        "id": "6994cba8"
      },
      "outputs": [],
      "source": [
        "\n",
        "import numpy as np\n",
        "import math\n",
        "#Create a numpy matrix...data set...\n",
        "A = np.array([[1, 4, 5, 4],\n",
        "              [5, 8, 9, 14],\n",
        "              [6, 7, 11, 13],\n",
        "              [1,4,5,3],\n",
        "              [5, 8, 9, 14],\n",
        "              [4, 7, 8, 13],\n",
        "              [1,4,6,4],\n",
        "              [5,5,4,5],\n",
        "              [5, 8, 9, 14],\n",
        "              [6, 7, 11, 12]])\n",
        "class_level=[1,2,2,1,2,2,1,1,2,2] #Associated class level\n",
        "row,col=A.shape"
      ]
    },
    {
      "cell_type": "code",
      "execution_count": null,
      "id": "aa731a63",
      "metadata": {
        "id": "aa731a63"
      },
      "outputs": [],
      "source": [
        "#Compute the equlidian distance...\n",
        "def distance(x,y):\n",
        "    sum=0.0\n",
        "    for i in range(len(x)):\n",
        "        sum= sum + (x[i] -y[i])* (x[i] - y[i])\n",
        "\n",
        "    return math.sqrt(sum)"
      ]
    },
    {
      "cell_type": "code",
      "execution_count": null,
      "id": "a57e8895",
      "metadata": {
        "id": "a57e8895"
      },
      "outputs": [],
      "source": [
        "#Define function for classification...\n",
        "\n",
        "def knn_classification(A,new_sample,k):\n",
        "    row,col=A.shape\n",
        "    #Get the distance from all sample of the data set and store in d...\n",
        "    d=[]\n",
        "    for i in range(row):\n",
        "        dis = distance( new_sample , A[i])\n",
        "        d.append(dis)\n",
        "    print(\"The distance from all the points are:\\n\",d)\n",
        "    index=np.argsort(d)#sort the distance based on the value index...\n",
        "    print(\"sorted index: \\n\",index)\n",
        "\n",
        "    ctr1=0\n",
        "    ctr2=0\n",
        "    for i in range(k):\n",
        "        if ( class_level[index[i]]==1 ):\n",
        "            ctr1=ctr1+1\n",
        "        else:\n",
        "            ctr2=ctr2+1\n",
        "    if(ctr1>ctr2):\n",
        "        return 1\n",
        "    else:\n",
        "        return 2\n"
      ]
    },
    {
      "cell_type": "code",
      "execution_count": null,
      "id": "2f64c0da",
      "metadata": {
        "id": "2f64c0da",
        "outputId": "a4206c83-7b39-41c0-ad1d-257a201fc505"
      },
      "outputs": [
        {
          "name": "stdout",
          "output_type": "stream",
          "text": [
            "The distance from all the points are:\n",
            " [0.0, 12.165525060596439, 12.288205727444508, 1.0, 12.165525060596439, 10.392304845413264, 1.0, 4.358898943540674, 12.165525060596439, 11.575836902790225]\n",
            "sorted index: \n",
            " [0 3 6 7 5 9 1 4 8 2]\n",
            "The class in which the new sample belong is:  1\n",
            "\n",
            "Next sample class level is\n",
            "\n",
            "The distance from all the points are:\n",
            " [11.575836902790225, 3.1622776601683795, 1.0, 12.288205727444508, 3.1622776601683795, 3.7416573867739413, 11.090536506409418, 10.14889156509222, 3.1622776601683795, 0.0]\n",
            "sorted index: \n",
            " [9 2 1 4 8 5 7 6 0 3]\n",
            "The class in which the new sample belong is:  2\n"
          ]
        }
      ],
      "source": [
        "#Prediction....\n",
        "#Generate test sample....\n",
        "sample_1 = [1,4,5,4] #new sample....\n",
        "k=3\n",
        "c=knn_classification(A,sample_1,k);\n",
        "print(\"The class in which the new sample belong is: \",c)\n",
        "\n",
        "print(\"\\nNext sample class level is\\n\")\n",
        "sample_2 = [6, 7, 11, 12]\n",
        "c=knn_classification(A,sample_2,k);\n",
        "print(\"The class in which the new sample belong is: \",c)"
      ]
    },
    {
      "cell_type": "code",
      "execution_count": null,
      "id": "f28e698c",
      "metadata": {
        "id": "f28e698c"
      },
      "outputs": [],
      "source": []
    },
    {
      "cell_type": "markdown",
      "id": "63866129",
      "metadata": {
        "id": "63866129"
      },
      "source": [
        "# Generate synthetic data for two classes"
      ]
    },
    {
      "cell_type": "code",
      "execution_count": null,
      "id": "d0b3e043",
      "metadata": {
        "id": "d0b3e043"
      },
      "outputs": [],
      "source": [
        "#apply KNN on synthetic data...\n",
        "import numpy as np\n",
        "import pandas as pd\n",
        "from sklearn.datasets import make_classification\n",
        "\n",
        "# Generate synthetic data for two classes\n",
        "X, y = make_classification(\n",
        "    n_samples=60,        # Number of samples\n",
        "    n_features=6,        # Number of features\n",
        "    n_classes=2,         # Number of classes\n",
        "    random_state=42      # Seed for reproducibility\n",
        ")"
      ]
    },
    {
      "cell_type": "code",
      "execution_count": null,
      "id": "9daf5025",
      "metadata": {
        "id": "9daf5025",
        "outputId": "5279a3fa-3bff-4edd-e398-03d783e06621"
      },
      "outputs": [
        {
          "name": "stdout",
          "output_type": "stream",
          "text": [
            "[[ 0.43105621 -0.07659294 -0.85715756  0.62566735  0.41148157 -0.80499816]\n",
            " [ 0.91587776  0.06243672  0.48247242 -1.0708925   1.67595303 -1.9892455 ]\n",
            " [-1.50638729  0.52443832 -1.1429703   0.05820872 -0.52382241  2.4952102 ]\n",
            " [-0.55859466 -0.0624513   0.65139125  0.95400176 -1.10893061  1.24342208]\n",
            " [-0.810488    0.21632966 -0.48423407 -1.51936997 -0.51622264  1.42403555]\n",
            " [-0.19771377  0.15559822 -0.81581028 -0.88951443  0.24014872  0.22005263]\n",
            " [ 0.56760369 -0.51904185  0.51378595  0.51503527 -0.94698832 -0.54214784]\n",
            " [-1.03128187  1.0719947   0.21645859 -0.73036663  2.17965475  0.82535439]\n",
            " [-0.64827236 -0.08850068 -0.93782504 -1.37766937 -1.34400607  1.46288529]\n",
            " [-0.85319352  0.54072612 -0.65160035  0.04557184  0.57090427  1.11147473]]\n",
            "[1 1 0 0 1 1 0 1 0 1]\n"
          ]
        }
      ],
      "source": [
        "#divide the data set into two sets, trai set and test set...\n",
        "X_train=X[0:50]\n",
        "X_test=X[50:61]\n",
        "print(X_test)\n",
        "\n",
        "y_train=y[0:50]\n",
        "y_test=y[50:61]\n",
        "print(y_test)"
      ]
    },
    {
      "cell_type": "code",
      "execution_count": null,
      "id": "fea046f7",
      "metadata": {
        "id": "fea046f7"
      },
      "outputs": [],
      "source": [
        "#Define function for classification...\n",
        "\n",
        "def knn_classification(A,new_sample,k,y_train):\n",
        "    row,col=A.shape\n",
        "    #Get the distance from all sample of the data set and store in d...\n",
        "    d=[]\n",
        "    for i in range(row):\n",
        "        dis = distance( new_sample , A[i])\n",
        "        d.append(dis)\n",
        "    #print(\"The distance from all the points are:\\n\",d)\n",
        "    index=np.argsort(d)#sort the distance based on the value index...\n",
        "    #print(\"sorted index: \\n\",index)\n",
        "\n",
        "    ctr1=0\n",
        "    ctr2=0\n",
        "    for i in range(k):\n",
        "        if ( y_train[index[i]]==1 ):\n",
        "            ctr1=ctr1+1\n",
        "        else:\n",
        "            ctr2=ctr2+1\n",
        "    if(ctr1>ctr2):\n",
        "        return 1\n",
        "    else:\n",
        "        return 0"
      ]
    },
    {
      "cell_type": "code",
      "execution_count": null,
      "id": "30d62bd9",
      "metadata": {
        "id": "30d62bd9"
      },
      "outputs": [],
      "source": [
        "#Function print accuracy\n",
        "\n",
        "def print_accuracy(y_pred,y_test):\n",
        "    ctr=0\n",
        "    for i in range(len(y_pred)):\n",
        "        if y_pred[i] == y_test[i]:\n",
        "            ctr=ctr+1\n",
        "\n",
        "    accuracy=ctr/len(y_test)*100\n",
        "    return accuracy\n"
      ]
    },
    {
      "cell_type": "code",
      "execution_count": null,
      "id": "b3f425cd",
      "metadata": {
        "id": "b3f425cd",
        "outputId": "e06a3f2d-b2ec-4bb8-95b3-185a9a5ec497"
      },
      "outputs": [
        {
          "name": "stdout",
          "output_type": "stream",
          "text": [
            "[1, 1, 0, 1, 1, 1, 0, 1, 0, 1]\n"
          ]
        },
        {
          "data": {
            "text/plain": [
              "<function print(*args, sep=' ', end='\\n', file=None, flush=False)>"
            ]
          },
          "execution_count": 33,
          "metadata": {},
          "output_type": "execute_result"
        }
      ],
      "source": [
        "y_pred=[]\n",
        "k=7\n",
        "for i in range(len(X_test)):\n",
        "    cls_label=knn_classification(X_train,X_test[i],k,y_train)\n",
        "    y_pred.append(cls_label)\n",
        "print(y_pred)\n",
        "\n",
        "print"
      ]
    },
    {
      "cell_type": "code",
      "execution_count": null,
      "id": "629cd258",
      "metadata": {
        "id": "629cd258",
        "outputId": "94e664a1-6e5b-4f3c-ee5a-23d35f2cdaa0"
      },
      "outputs": [
        {
          "name": "stdout",
          "output_type": "stream",
          "text": [
            "90.0\n"
          ]
        }
      ],
      "source": [
        "v=print_accuracy(y_pred,y_test)\n",
        "print(v)"
      ]
    },
    {
      "cell_type": "code",
      "execution_count": null,
      "id": "5aa67218",
      "metadata": {
        "id": "5aa67218"
      },
      "outputs": [],
      "source": []
    }
  ],
  "metadata": {
    "kernelspec": {
      "display_name": "Python 3 (ipykernel)",
      "language": "python",
      "name": "python3"
    },
    "language_info": {
      "codemirror_mode": {
        "name": "ipython",
        "version": 3
      },
      "file_extension": ".py",
      "mimetype": "text/x-python",
      "name": "python",
      "nbconvert_exporter": "python",
      "pygments_lexer": "ipython3",
      "version": "3.11.4"
    },
    "colab": {
      "provenance": [],
      "include_colab_link": true
    }
  },
  "nbformat": 4,
  "nbformat_minor": 5
}